{
 "cells": [
  {
   "cell_type": "markdown",
   "id": "2822abe0",
   "metadata": {},
   "source": [
    "#### Data loading and type checking"
   ]
  },
  {
   "cell_type": "code",
   "execution_count": 9,
   "id": "28daad7b",
   "metadata": {},
   "outputs": [
    {
     "name": "stdout",
     "output_type": "stream",
     "text": [
      "Column 17 sample values:\n",
      "0    0.000000000000000000e+00.1\n",
      "1                           0.0\n",
      "2             2.548224449157715\n",
      "3                           0.0\n",
      "4                           0.0\n",
      "Name: 17, dtype: object\n"
     ]
    }
   ],
   "source": [
    "import pandas as pd\n",
    "\n",
    "# Load CSV (no headers)\n",
    "df = pd.read_csv('HIGGS_8K.csv', header=None)\n",
    "\n",
    "# Check column 17 for problematic values\n",
    "print(\"Column 17 sample values:\")\n",
    "print(df[17].head())"
   ]
  },
  {
   "cell_type": "markdown",
   "id": "e93f0b77",
   "metadata": {},
   "source": [
    "#### Fix Scientific Notation in Column 17"
   ]
  },
  {
   "cell_type": "code",
   "execution_count": 10,
   "id": "e5f6595f",
   "metadata": {},
   "outputs": [
    {
     "name": "stdout",
     "output_type": "stream",
     "text": [
      "Column 17 after cleaning:\n",
      "0    0.000000\n",
      "1    0.000000\n",
      "2    2.548224\n",
      "3    0.000000\n",
      "4    0.000000\n",
      "Name: 17, dtype: float64\n"
     ]
    }
   ],
   "source": [
    "# Clean column 17: Replace \"e+00.X\" with \"e-X\" (e.g., \"e+00.1\" → \"e-1\")\n",
    "df[17] = df[17].str.replace(r'e\\+00\\.(\\d+)', r'e-\\1', regex=True).astype(float)\n",
    "\n",
    "# Verify\n",
    "print(\"Column 17 after cleaning:\")\n",
    "print(df[17].head())"
   ]
  },
  {
   "cell_type": "markdown",
   "id": "49d098b1",
   "metadata": {},
   "source": [
    "#### Saving Cleaned Data"
   ]
  },
  {
   "cell_type": "code",
   "execution_count": 11,
   "id": "f9fcfca8",
   "metadata": {},
   "outputs": [
    {
     "name": "stdout",
     "output_type": "stream",
     "text": [
      "Saved to 'HIGGS_8K_cleaned.csv'\n"
     ]
    }
   ],
   "source": [
    "# Save to CSV\n",
    "df.to_csv('HIGGS_8K_cleaned.csv', index=False, header=None, float_format='%.18e')\n",
    "print(\"Saved to 'HIGGS_8K_cleaned.csv'\")"
   ]
  }
 ],
 "metadata": {
  "kernelspec": {
   "display_name": "myenv",
   "language": "python",
   "name": "python3"
  },
  "language_info": {
   "codemirror_mode": {
    "name": "ipython",
    "version": 3
   },
   "file_extension": ".py",
   "mimetype": "text/x-python",
   "name": "python",
   "nbconvert_exporter": "python",
   "pygments_lexer": "ipython3",
   "version": "3.12.3"
  }
 },
 "nbformat": 4,
 "nbformat_minor": 5
}
